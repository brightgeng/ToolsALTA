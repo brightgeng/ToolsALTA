{
 "metadata": {
  "language_info": {
   "codemirror_mode": {
    "name": "ipython",
    "version": 3
   },
   "file_extension": ".py",
   "mimetype": "text/x-python",
   "name": "python",
   "nbconvert_exporter": "python",
   "pygments_lexer": "ipython3",
   "version": "3.7.6-final"
  },
  "orig_nbformat": 2,
  "kernelspec": {
   "name": "python3",
   "display_name": "Python 3"
  }
 },
 "nbformat": 4,
 "nbformat_minor": 2,
 "cells": [
  {
   "cell_type": "code",
   "execution_count": 174,
   "metadata": {
    "tags": []
   },
   "outputs": [
    {
     "output_type": "execute_result",
     "data": {
      "text/plain": [
       "<module 'error' from 'c:\\\\Users\\\\runda\\\\OneDrive - RundaTech\\\\PortableApps\\\\PortableApps\\\\VSCode\\\\data\\\\ToolsALTA\\\\error.py'>"
      ]
     },
     "metadata": {},
     "execution_count": 174
    }
   ],
   "source": [
    "import importlib\n",
    "import matching as mc\n",
    "import error\n",
    "importlib.reload(mc)\n",
    "importlib.reload(error)"
   ]
  },
  {
   "cell_type": "code",
   "execution_count": 175,
   "metadata": {},
   "outputs": [
    {
     "output_type": "stream",
     "name": "stderr",
     "text": [
      "2020-11-11 14:00:00,242-matching.py-__init__-DEBUG-44-牛群明细文件的后缀是：XLSX\n",
      "2020-11-11 14:00:00,245-matching.py-__init__-DEBUG-61-牧场的选配参数为：\n",
      "  ['蚌埠', '106', '1', '1', '2', '0', '0', '0', '31', '蚌埠_配种组_20191031.csv']\n",
      "2020-11-11 14:00:00,247-matching.py-import_cowsFile-INFO-130-\n",
      "\n",
      "开始执行第一步：导入牛群明细:蚌埠_全群明细_20201111.xlsx\n",
      "2020-11-11 14:00:00,248-matching.py-import_cowsFile-DEBUG-132-overload: 0\n",
      "2020-11-11 14:00:00,878-matching.py-import_cowsFile-INFO-136-读取已存在的pickle文件:c:\\Users\\runda\\OneDrive - RundaTech\\PortableApps\\PortableApps\\VSCode\\data\\ToolsALTA\\Match_files\\蚌埠_全群明细_20201111.pickle\n",
      "2020-11-11 14:00:00,879-matching.py-import_cowsFile-INFO-167-已导入所有列\n",
      "2020-11-11 14:00:00,882-matching.py-import_cowsFile-INFO-179-开始提取列...\n",
      "  希望提取的列：['牛号', '月龄', '胎次', '繁殖状态', '泌乳天数', '产后天数', '空怀天数', '配种次数', '奶量1', '奶量2', '牛舍名称', '出生日期', '父亲牛号', '外祖父号', '繁殖代码', '怀孕日期', '产犊日期', '干奶日期', '配种日期', '流产日期', '与配公牛']\n",
      "2020-11-11 14:00:00,883-matching.py-import_cowsFile-INFO-183-  已提取到列:牛号，文件中是：牛号\n",
      "2020-11-11 14:00:00,891-matching.py-import_cowsFile-INFO-183-  已提取到列:月龄，文件中是：月龄\n",
      "2020-11-11 14:00:00,894-matching.py-import_cowsFile-INFO-183-  已提取到列:胎次，文件中是：胎次\n",
      "2020-11-11 14:00:00,896-matching.py-import_cowsFile-INFO-183-  已提取到列:繁殖状态，文件中是：繁殖状态\n",
      "2020-11-11 14:00:00,899-matching.py-import_cowsFile-INFO-183-  已提取到列:泌乳天数，文件中是：泌乳天数\n",
      "2020-11-11 14:00:00,902-matching.py-import_cowsFile-INFO-183-  已提取到列:产后天数，文件中是：产后天数\n",
      "2020-11-11 14:00:00,904-matching.py-import_cowsFile-INFO-183-  已提取到列:空怀天数，文件中是：空怀天数\n",
      "2020-11-11 14:00:00,914-matching.py-import_cowsFile-INFO-183-  已提取到列:配种次数，文件中是：配种次数\n",
      "2020-11-11 14:00:00,917-matching.py-import_cowsFile-INFO-183-  已提取到列:奶量1，文件中是：ME305\n",
      "2020-11-11 14:00:00,920-matching.py-import_cowsFile-INFO-183-  已提取到列:奶量2，文件中是：测试日奶量\n",
      "2020-11-11 14:00:00,922-matching.py-import_cowsFile-INFO-183-  已提取到列:牛舍名称，文件中是：牛舍名称\n",
      "2020-11-11 14:00:00,926-matching.py-import_cowsFile-INFO-183-  已提取到列:出生日期，文件中是：出生日期\n",
      "2020-11-11 14:00:00,928-matching.py-import_cowsFile-INFO-183-  已提取到列:父亲牛号，文件中是：父亲牛号\n",
      "2020-11-11 14:00:00,932-matching.py-import_cowsFile-INFO-183-  已提取到列:外祖父号，文件中是：外祖父号\n",
      "2020-11-11 14:00:00,935-matching.py-import_cowsFile-INFO-195-未提取到列:繁殖代码, 文件中未找到['RC', '注册号']\n",
      "2020-11-11 14:00:00,939-matching.py-import_cowsFile-INFO-183-  已提取到列:怀孕日期，文件中是：怀孕日期\n",
      "2020-11-11 14:00:00,944-matching.py-import_cowsFile-INFO-183-  已提取到列:产犊日期，文件中是：产犊日期\n",
      "2020-11-11 14:00:00,947-matching.py-import_cowsFile-INFO-183-  已提取到列:干奶日期，文件中是：干奶日期\n",
      "2020-11-11 14:00:00,951-matching.py-import_cowsFile-INFO-183-  已提取到列:配种日期，文件中是：配种日期\n",
      "2020-11-11 14:00:00,954-matching.py-import_cowsFile-INFO-183-  已提取到列:流产日期，文件中是：流产日期\n",
      "2020-11-11 14:00:00,957-matching.py-import_cowsFile-INFO-183-  已提取到列:与配公牛，文件中是：配种公牛号\n",
      "2020-11-11 14:00:00,959-matching.py-import_cowsFile-INFO-197-提取完成。\n",
      "2020-11-11 14:00:01,157-matching.py-import_cowsFile-DEBUG-204-牛号        object\n",
      "月龄       float64\n",
      "胎次        object\n",
      "繁殖状态      object\n",
      "泌乳天数      object\n",
      "产后天数      object\n",
      "空怀天数      object\n",
      "配种次数      object\n",
      "奶量1       object\n",
      "奶量2       object\n",
      "牛舍名称      object\n",
      "出生日期      object\n",
      "父亲牛号      object\n",
      "外祖父号      object\n",
      "繁殖代码_      int64\n",
      "怀孕日期      object\n",
      "产犊日期      object\n",
      "干奶日期       int64\n",
      "配种日期      object\n",
      "流产日期      object\n",
      "与配公牛      object\n",
      "dtype: object\n",
      "2020-11-11 14:00:01,160-matching.py-import_cowsFile-DEBUG-206-herds1 中有多少头26630\n",
      "2020-11-11 14:00:01,299-matching.py-import_cowsFile-INFO-219-开始处理日期格式...转换日期格式为\"【月/日/年】\n",
      "2020-11-11 14:00:01,302-matching.py-import_cowsFile-INFO-224-  【出生日期】当前格式是：2019-02-09,<class 'str'>\n",
      "2020-11-11 14:00:01,319-matching.py-import_cowsFile-INFO-227-    --第1步：转换为日期类型。\n",
      "2020-11-11 14:00:01,527-matching.py-import_cowsFile-INFO-241-    --出生日期格式处理完成。现在的格式为：【02/09/2019】，<class 'str'>\n",
      "2020-11-11 14:00:01,530-matching.py-import_cowsFile-INFO-224-  【怀孕日期】当前格式是：1970-01-01 00:00:00,<class 'datetime.datetime'>\n",
      "2020-11-11 14:00:01,547-matching.py-import_cowsFile-INFO-227-    --第1步：转换为日期类型。\n",
      "2020-11-11 14:00:01,766-matching.py-import_cowsFile-INFO-241-    --怀孕日期格式处理完成。现在的格式为：【01/01/1970】，<class 'str'>\n",
      "2020-11-11 14:00:01,769-matching.py-import_cowsFile-INFO-224-  【产犊日期】当前格式是：2020-09-24,<class 'str'>\n",
      "2020-11-11 14:00:01,844-matching.py-import_cowsFile-INFO-227-    --第1步：转换为日期类型。\n",
      "2020-11-11 14:00:02,109-matching.py-import_cowsFile-INFO-241-    --产犊日期格式处理完成。现在的格式为：【09/24/2020】，<class 'str'>\n",
      "2020-11-11 14:00:02,121-matching.py-import_cowsFile-INFO-224-  【干奶日期】当前格式是：1970-01-01 00:00:00,<class 'pandas._libs.tslibs.timestamps.Timestamp'>\n",
      "2020-11-11 14:00:02,125-matching.py-import_cowsFile-INFO-227-    --第1步：转换为日期类型。\n",
      "2020-11-11 14:00:02,308-matching.py-import_cowsFile-INFO-241-    --干奶日期格式处理完成。现在的格式为：【01/01/1970】，<class 'str'>\n",
      "2020-11-11 14:00:02,312-matching.py-import_cowsFile-INFO-224-  【配种日期】当前格式是：1970-01-01 00:00:00,<class 'datetime.datetime'>\n",
      "2020-11-11 14:00:02,332-matching.py-import_cowsFile-INFO-227-    --第1步：转换为日期类型。\n",
      "2020-11-11 14:00:02,526-matching.py-import_cowsFile-INFO-241-    --配种日期格式处理完成。现在的格式为：【01/01/1970】，<class 'str'>\n",
      "2020-11-11 14:00:02,529-matching.py-import_cowsFile-INFO-224-  【流产日期】当前格式是：1970-01-01 00:00:00,<class 'datetime.datetime'>\n",
      "2020-11-11 14:00:02,546-matching.py-import_cowsFile-INFO-227-    --第1步：转换为日期类型。\n",
      "2020-11-11 14:00:02,765-matching.py-import_cowsFile-INFO-241-    --流产日期格式处理完成。现在的格式为：【01/01/1970】，<class 'str'>\n",
      "2020-11-11 14:00:02,766-matching.py-import_cowsFile-DEBUG-242-牛号        object\n",
      "月龄       float64\n",
      "胎次        object\n",
      "繁殖状态      object\n",
      "泌乳天数      object\n",
      "产后天数      object\n",
      "空怀天数      object\n",
      "配种次数      object\n",
      "奶量1       object\n",
      "奶量2       object\n",
      "牛舍名称      object\n",
      "出生日期      object\n",
      "父亲牛号      object\n",
      "外祖父号      object\n",
      "繁殖代码_      int64\n",
      "怀孕日期      object\n",
      "产犊日期      object\n",
      "干奶日期      object\n",
      "配种日期      object\n",
      "流产日期      object\n",
      "与配公牛      object\n",
      "dtype: object\n",
      "2020-11-11 14:00:02,769-matching.py-import_cowsFile-INFO-245-添加配种组列, 默认全为0\n",
      "2020-11-11 14:00:02,771-matching.py-import_cowsFile-DEBUG-248-配种组设置文件为：蚌埠_配种组_20191031.csv\n",
      "2020-11-11 14:00:04,179-matching.py-import_cowsFile-INFO-257-配种组处理完成，配种组列下的数字为组别。\n",
      "2020-11-11 14:00:04,720-matching.py-import_cowsFile-INFO-263-文件中共有牛头数：【26630】\n",
      "2020-11-11 14:00:04,721-matching.py-import_cowsFile-INFO-264-数据保存中...\n",
      "2020-11-11 14:00:05,582-matching.py-import_cowsFile-INFO-271-各列数据类型转换中...\n",
      "2020-11-11 14:00:05,686-matching.py-import_cowsFile-DEBUG-284-牛号         int64\n",
      "月龄         int64\n",
      "胎次         int64\n",
      "繁殖状态      object\n",
      "泌乳天数       int64\n",
      "产后天数       int64\n",
      "空怀天数       int64\n",
      "配种次数       int64\n",
      "奶量1        int64\n",
      "奶量2      float64\n",
      "牛舍名称      object\n",
      "出生日期      object\n",
      "父亲牛号      object\n",
      "外祖父号      object\n",
      "繁殖代码_      int64\n",
      "怀孕日期      object\n",
      "产犊日期      object\n",
      "干奶日期      object\n",
      "配种日期      object\n",
      "流产日期      object\n",
      "与配公牛      object\n",
      "配种组        int32\n",
      "大舍         int64\n",
      "配种组1     float64\n",
      "dtype: object\n",
      "2020-11-11 14:00:05,731-matching.py-import_cowsFile-INFO-285-第一步执行完成，提取的数据保存在：c:\\Users\\runda\\OneDrive - RundaTech\\PortableApps\\PortableApps\\VSCode\\data\\ToolsALTA\\蚌埠_主要信息_20201111.csv\n",
      "\n",
      "2020-11-11 14:00:06,487-matching.py-split_file-INFO-295-转换为int\n",
      "2020-11-11 14:00:06,746-matching.py-split_file-INFO-303-cats:[0 1 2]\n",
      "2020-11-11 14:00:21,904-matching.py-split_file-INFO-309-保存完成：c:\\Users\\runda\\OneDrive - RundaTech\\PortableApps\\PortableApps\\VSCode\\data\\ToolsALTA\\Match_files\\蚌埠_全群明细_20201111_0.xlsx\n",
      "2020-11-11 14:00:37,200-matching.py-split_file-INFO-309-保存完成：c:\\Users\\runda\\OneDrive - RundaTech\\PortableApps\\PortableApps\\VSCode\\data\\ToolsALTA\\Match_files\\蚌埠_全群明细_20201111_1.xlsx\n",
      "2020-11-11 14:00:54,316-matching.py-split_file-INFO-309-保存完成：c:\\Users\\runda\\OneDrive - RundaTech\\PortableApps\\PortableApps\\VSCode\\data\\ToolsALTA\\Match_files\\蚌埠_全群明细_20201111_2.xlsx\n",
      "2020-11-11 14:00:54,317-matching.py-split_file-INFO-310-处理完成\n"
     ]
    }
   ],
   "source": [
    "HN = mc.Farm('蚌埠','蚌埠_全群明细_20201111.xlsx')"
   ]
  },
  {
   "cell_type": "code",
   "execution_count": null,
   "metadata": {},
   "outputs": [],
   "source": [
    "# 工具1：合并体型\n",
    "import tools \n",
    "tools.merge_body()"
   ]
  },
  {
   "cell_type": "code",
   "execution_count": null,
   "metadata": {},
   "outputs": [],
   "source": [
    "# 工具2： 提取配种记录\n",
    "import tools \n",
    "tools.extract_log()"
   ]
  },
  {
   "cell_type": "code",
   "execution_count": null,
   "metadata": {},
   "outputs": [],
   "source": [
    "# 工具3： 提取定位文件\n",
    "import tools \n",
    "tools.mger_pos()"
   ]
  },
  {
   "cell_type": "code",
   "execution_count": 179,
   "metadata": {},
   "outputs": [
    {
     "output_type": "stream",
     "name": "stderr",
     "text": [
      "2020-11-11 15:49:37,542-tools.py-merge_files-INFO-182-开始读取文件：1\n",
      "2020-11-11 15:49:45,401-tools.py-merge_files-INFO-185-合并文件。。。\n",
      "2020-11-11 15:49:45,450-tools.py-merge_files-INFO-187-合并完成\n",
      "2020-11-11 15:49:45,454-tools.py-merge_files-INFO-182-开始读取文件：2\n",
      "2020-11-11 15:49:54,253-tools.py-merge_files-INFO-185-合并文件。。。\n",
      "2020-11-11 15:49:54,375-tools.py-merge_files-INFO-187-合并完成\n",
      "2020-11-11 15:49:54,376-tools.py-merge_files-INFO-182-开始读取文件：5\n",
      "2020-11-11 15:49:58,420-tools.py-merge_files-INFO-185-合并文件。。。\n",
      "2020-11-11 15:49:58,556-tools.py-merge_files-INFO-187-合并完成\n",
      "2020-11-11 15:49:58,557-tools.py-merge_files-INFO-188-开始保存合并后的文件\n",
      "保存完成!\n"
     ]
    }
   ],
   "source": [
    "# 工具4: 合并选配文件\n",
    "import tools \n",
    "import importlib\n",
    "importlib.reload(tools)\n",
    "tools.merge_files(file_name_pre='20201111_选配方案_蚌埠_', file_list=[1,2,5])"
   ]
  },
  {
   "cell_type": "code",
   "execution_count": null,
   "metadata": {},
   "outputs": [],
   "source": [
    "\n"
   ]
  }
 ]
}