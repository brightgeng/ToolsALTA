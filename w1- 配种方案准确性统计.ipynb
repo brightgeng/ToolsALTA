{
 "metadata": {
  "language_info": {
   "codemirror_mode": {
    "name": "ipython",
    "version": 3
   },
   "file_extension": ".py",
   "mimetype": "text/x-python",
   "name": "python",
   "nbconvert_exporter": "python",
   "pygments_lexer": "ipython3",
   "version": "3.7.6-final"
  },
  "orig_nbformat": 2,
  "kernelspec": {
   "name": "python3",
   "display_name": "Python 3"
  }
 },
 "nbformat": 4,
 "nbformat_minor": 2,
 "cells": [
  {
   "cell_type": "code",
   "execution_count": null,
   "metadata": {},
   "outputs": [],
   "source": [
    "import matching\n",
    "import case_tracer as ct\n",
    "import importlib\n",
    "importlib.load(matching)\n",
    "importlib.load(ct)"
   ]
  },
  {
   "cell_type": "code",
   "execution_count": 3,
   "metadata": {},
   "outputs": [],
   "source": [
    "s = \"\"\"配种记录_2020年10月_蚌埠.xlsx\n",
    "配种记录_2020年10月_和林.xlsx\n",
    "配种记录_2020年10月_马鞍山.xlsx\n",
    "配种记录_2020年10月_洪雅.xlsx\n",
    "配种记录_2020年10月_宝鸡.xlsx\"\"\""
   ]
  },
  {
   "cell_type": "code",
   "execution_count": 4,
   "metadata": {},
   "outputs": [
    {
     "output_type": "execute_result",
     "data": {
      "text/plain": [
       "'配种记录_2020年10月_蚌埠.xlsx\\n配种记录_2020年10月_和林.xlsx\\n配种记录_2020年10月_马鞍山.xlsx\\n配种记录_2020年10月_洪雅.xlsx\\n配种记录_2020年10月_宝鸡.xlsx'"
      ]
     },
     "metadata": {},
     "execution_count": 4
    }
   ],
   "source": [
    "s"
   ]
  },
  {
   "cell_type": "code",
   "execution_count": 5,
   "metadata": {},
   "outputs": [
    {
     "output_type": "execute_result",
     "data": {
      "text/plain": [
       "['配种记录_2020年10月_蚌埠.xlsx',\n",
       " '配种记录_2020年10月_和林.xlsx',\n",
       " '配种记录_2020年10月_马鞍山.xlsx',\n",
       " '配种记录_2020年10月_洪雅.xlsx',\n",
       " '配种记录_2020年10月_宝鸡.xlsx']"
      ]
     },
     "metadata": {},
     "execution_count": 5
    }
   ],
   "source": [
    "s.split(\"\\n\")"
   ]
  },
  {
   "cell_type": "code",
   "execution_count": 6,
   "metadata": {},
   "outputs": [],
   "source": [
    "file = r\"c:\\Users\\runda\\OneDrive - RundaTech\\04 工作\\0405 艾格威贸易\\ALTA_Matching\\BredLog\\配种记录_2020年10月_蚌埠.xlsx\""
   ]
  },
  {
   "cell_type": "code",
   "execution_count": 11,
   "metadata": {},
   "outputs": [],
   "source": [
    "import pandas as pd"
   ]
  },
  {
   "cell_type": "code",
   "execution_count": 12,
   "metadata": {},
   "outputs": [],
   "source": [
    "df = pd.DataFrame(pd.read_excel(file))"
   ]
  },
  {
   "cell_type": "code",
   "execution_count": 13,
   "metadata": {},
   "outputs": [
    {
     "output_type": "execute_result",
     "data": {
      "text/plain": [
       "       牛号       注册号  当前胎次  事件胎次 当前繁育状态  当前牛舍 工作人员        事件日期    日龄   泌乳天数  \\\n",
       "0    7292  19007292     6     6     禁配  0202  陈晓黎  2020-10-02  3257  379.0   \n",
       "1  108202  19108202     3     3     禁配  0401  陈晓黎  2020-10-02  1739  322.0   \n",
       "2  191770  19191770     0     0     禁配  176S  韩乐祥  2020-10-01   543    NaN   \n",
       "3  152307  19152307     4     4     禁配  0202  陈晓黎  2020-10-01  2019  316.0   \n",
       "4  118258  19118258     3     3     禁配  0102   刘标  2020-10-02  1843  327.0   \n",
       "\n",
       "   ... 冻精消耗       配种公牛号  配种牛舍  配种方式 配种结果  配次        初检日期 初检结果      上次配种日期 子宫评分  \n",
       "0  ...    1  011HO12240  0102  同期处理   空怀   9  2020-10-25   空怀  2020-08-25  NaN  \n",
       "1  ...    1  011HO12240  0102  自然发情   空怀   9  2020-10-24   空怀  2020-09-12  NaN  \n",
       "2  ...    1  011HO13571  176S  自然发情   空怀   6  2020-10-24   空怀  2020-09-13  NaN  \n",
       "3  ...    1  011HO12240  0202  自然发情   空怀   3  2020-10-24   空怀  2020-03-20  NaN  \n",
       "4  ...    1  011HO12240  0102  同期处理   空怀   8  2020-10-25   空怀  2020-08-28  NaN  \n",
       "\n",
       "[5 rows x 28 columns]"
      ],
      "text/html": "<div>\n<style scoped>\n    .dataframe tbody tr th:only-of-type {\n        vertical-align: middle;\n    }\n\n    .dataframe tbody tr th {\n        vertical-align: top;\n    }\n\n    .dataframe thead th {\n        text-align: right;\n    }\n</style>\n<table border=\"1\" class=\"dataframe\">\n  <thead>\n    <tr style=\"text-align: right;\">\n      <th></th>\n      <th>牛号</th>\n      <th>注册号</th>\n      <th>当前胎次</th>\n      <th>事件胎次</th>\n      <th>当前繁育状态</th>\n      <th>当前牛舍</th>\n      <th>工作人员</th>\n      <th>事件日期</th>\n      <th>日龄</th>\n      <th>泌乳天数</th>\n      <th>...</th>\n      <th>冻精消耗</th>\n      <th>配种公牛号</th>\n      <th>配种牛舍</th>\n      <th>配种方式</th>\n      <th>配种结果</th>\n      <th>配次</th>\n      <th>初检日期</th>\n      <th>初检结果</th>\n      <th>上次配种日期</th>\n      <th>子宫评分</th>\n    </tr>\n  </thead>\n  <tbody>\n    <tr>\n      <th>0</th>\n      <td>7292</td>\n      <td>19007292</td>\n      <td>6</td>\n      <td>6</td>\n      <td>禁配</td>\n      <td>0202</td>\n      <td>陈晓黎</td>\n      <td>2020-10-02</td>\n      <td>3257</td>\n      <td>379.0</td>\n      <td>...</td>\n      <td>1</td>\n      <td>011HO12240</td>\n      <td>0102</td>\n      <td>同期处理</td>\n      <td>空怀</td>\n      <td>9</td>\n      <td>2020-10-25</td>\n      <td>空怀</td>\n      <td>2020-08-25</td>\n      <td>NaN</td>\n    </tr>\n    <tr>\n      <th>1</th>\n      <td>108202</td>\n      <td>19108202</td>\n      <td>3</td>\n      <td>3</td>\n      <td>禁配</td>\n      <td>0401</td>\n      <td>陈晓黎</td>\n      <td>2020-10-02</td>\n      <td>1739</td>\n      <td>322.0</td>\n      <td>...</td>\n      <td>1</td>\n      <td>011HO12240</td>\n      <td>0102</td>\n      <td>自然发情</td>\n      <td>空怀</td>\n      <td>9</td>\n      <td>2020-10-24</td>\n      <td>空怀</td>\n      <td>2020-09-12</td>\n      <td>NaN</td>\n    </tr>\n    <tr>\n      <th>2</th>\n      <td>191770</td>\n      <td>19191770</td>\n      <td>0</td>\n      <td>0</td>\n      <td>禁配</td>\n      <td>176S</td>\n      <td>韩乐祥</td>\n      <td>2020-10-01</td>\n      <td>543</td>\n      <td>NaN</td>\n      <td>...</td>\n      <td>1</td>\n      <td>011HO13571</td>\n      <td>176S</td>\n      <td>自然发情</td>\n      <td>空怀</td>\n      <td>6</td>\n      <td>2020-10-24</td>\n      <td>空怀</td>\n      <td>2020-09-13</td>\n      <td>NaN</td>\n    </tr>\n    <tr>\n      <th>3</th>\n      <td>152307</td>\n      <td>19152307</td>\n      <td>4</td>\n      <td>4</td>\n      <td>禁配</td>\n      <td>0202</td>\n      <td>陈晓黎</td>\n      <td>2020-10-01</td>\n      <td>2019</td>\n      <td>316.0</td>\n      <td>...</td>\n      <td>1</td>\n      <td>011HO12240</td>\n      <td>0202</td>\n      <td>自然发情</td>\n      <td>空怀</td>\n      <td>3</td>\n      <td>2020-10-24</td>\n      <td>空怀</td>\n      <td>2020-03-20</td>\n      <td>NaN</td>\n    </tr>\n    <tr>\n      <th>4</th>\n      <td>118258</td>\n      <td>19118258</td>\n      <td>3</td>\n      <td>3</td>\n      <td>禁配</td>\n      <td>0102</td>\n      <td>刘标</td>\n      <td>2020-10-02</td>\n      <td>1843</td>\n      <td>327.0</td>\n      <td>...</td>\n      <td>1</td>\n      <td>011HO12240</td>\n      <td>0102</td>\n      <td>同期处理</td>\n      <td>空怀</td>\n      <td>8</td>\n      <td>2020-10-25</td>\n      <td>空怀</td>\n      <td>2020-08-28</td>\n      <td>NaN</td>\n    </tr>\n  </tbody>\n</table>\n<p>5 rows × 28 columns</p>\n</div>"
     },
     "metadata": {},
     "execution_count": 13
    }
   ],
   "source": [
    "df.head()"
   ]
  },
  {
   "cell_type": "code",
   "execution_count": null,
   "metadata": {},
   "outputs": [],
   "source": []
  }
 ]
}